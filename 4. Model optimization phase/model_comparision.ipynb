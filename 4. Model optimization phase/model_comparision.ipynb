{
 "cells": [
  {
   "cell_type": "code",
   "execution_count": 2,
   "id": "8f9d0802",
   "metadata": {},
   "outputs": [
    {
     "name": "stdout",
     "output_type": "stream",
     "text": [
      "Note: you may need to restart the kernel to use updated packages.\n"
     ]
    }
   ],
   "source": [
    "# Imports\n",
    "%pip install matplotlib seaborn --quiet\n",
    "import pandas as pd\n",
    "import numpy as np\n",
    "import matplotlib.pyplot as plt\n",
    "import seaborn as sns\n",
    "\n",
    "from sklearn.model_selection import train_test_split\n",
    "from sklearn.preprocessing import LabelEncoder\n",
    "from sklearn.metrics import accuracy_score, precision_score, recall_score, f1_score, confusion_matrix, classification_report\n",
    "\n",
    "from sklearn.ensemble import RandomForestClassifier, ExtraTreesClassifier\n",
    "from sklearn.tree import DecisionTreeClassifier\n",
    "from sklearn.svm import SVC\n",
    "from xgboost import XGBClassifier\n",
    "\n",
    "import warnings\n",
    "warnings.filterwarnings('ignore')\n"
   ]
  },
  {
   "cell_type": "markdown",
   "id": "f626db0c",
   "metadata": {},
   "source": [
    "## Load and preprocess data"
   ]
  },
  {
   "cell_type": "code",
   "execution_count": 3,
   "id": "34b5eb27",
   "metadata": {},
   "outputs": [],
   "source": [
    "# Load dataset\n",
    "df = pd.read_csv(r\"C:\\Users\\hp\\Desktop\\Fraud_Payment_Detection2\\Fraud_Detection_Dataset\\PS_20174392719_1491204439457_log.csv\")\n",
    "\n",
    "# Encode categorical variables\n",
    "le = LabelEncoder()\n",
    "df['type'] = le.fit_transform(df['type'])\n",
    "\n",
    "# Drop non-numeric, irrelevant, or user ID columns\n",
    "df.drop(['nameOrig', 'nameDest'], axis=1, inplace=True)\n",
    "\n",
    "# Features and target\n",
    "X = df.drop('isFraud', axis=1)\n",
    "y = df['isFraud']\n",
    "\n",
    "# Train-test split\n",
    "X_train, X_test, y_train, y_test = train_test_split(X, y, test_size=0.2, random_state=42, stratify=y)\n"
   ]
  },
  {
   "cell_type": "markdown",
   "id": "394a97fe",
   "metadata": {},
   "source": [
    "## Define and Train Models"
   ]
  },
  {
   "cell_type": "code",
   "execution_count": 4,
   "id": "d10cce46",
   "metadata": {},
   "outputs": [],
   "source": [
    "models = {\n",
    "    \"Decision Tree\": DecisionTreeClassifier(),\n",
    "    \"Random Forest\": RandomForestClassifier(n_estimators=100),\n",
    "    \"Extra Trees\": ExtraTreesClassifier(n_estimators=100),\n",
    "    \"Support Vector Machine\": SVC(kernel='linear', probability=True),\n",
    "    \"XGBoost\": XGBClassifier(use_label_encoder=False, eval_metric='logloss')\n",
    "}\n",
    "\n",
    "results = []\n"
   ]
  },
  {
   "cell_type": "markdown",
   "id": "7f8ceb71",
   "metadata": {},
   "source": [
    "## Evaluate the Models"
   ]
  },
  {
   "cell_type": "code",
   "execution_count": null,
   "id": "685b245d",
   "metadata": {},
   "outputs": [],
   "source": [
    "for name, model in models.items():\n",
    "    model.fit(X_train, y_train)\n",
    "    y_pred = model.predict(X_test)\n",
    "    \n",
    "    acc = accuracy_score(y_test, y_pred)\n",
    "    prec = precision_score(y_test, y_pred)\n",
    "    rec = recall_score(y_test, y_pred)\n",
    "    f1 = f1_score(y_test, y_pred)\n",
    "    \n",
    "    results.append({\n",
    "        'Model': name,\n",
    "        'Accuracy': round(acc, 4),\n",
    "        'Precision': round(prec, 4),\n",
    "        'Recall': round(rec, 4),\n",
    "        'F1 Score': round(f1, 4)\n",
    "    })\n"
   ]
  },
  {
   "cell_type": "markdown",
   "id": "bbd67e3c",
   "metadata": {},
   "source": [
    "## Creating comparision table"
   ]
  },
  {
   "cell_type": "code",
   "execution_count": null,
   "id": "68b2de1e",
   "metadata": {},
   "outputs": [],
   "source": [
    "results_df = pd.DataFrame(results)\n",
    "results_df = results_df.sort_values(by='F1 Score', ascending=False)\n",
    "results_df.reset_index(drop=True, inplace=True)\n",
    "results_df\n"
   ]
  },
  {
   "cell_type": "markdown",
   "id": "b1b59cef",
   "metadata": {},
   "source": [
    "## Visualizing results"
   ]
  },
  {
   "cell_type": "code",
   "execution_count": null,
   "id": "58cd6b7c",
   "metadata": {},
   "outputs": [],
   "source": [
    "plt.figure(figsize=(10,6))\n",
    "sns.barplot(x='F1 Score', y='Model', data=results_df, palette='viridis')\n",
    "plt.title('Model Comparison (F1 Score)')\n",
    "plt.xlabel('F1 Score')\n",
    "plt.ylabel('Model')\n",
    "plt.tight_layout()\n",
    "plt.show()"
   ]
  }
 ],
 "metadata": {
  "kernelspec": {
   "display_name": ".venv",
   "language": "python",
   "name": "python3"
  },
  "language_info": {
   "codemirror_mode": {
    "name": "ipython",
    "version": 3
   },
   "file_extension": ".py",
   "mimetype": "text/x-python",
   "name": "python",
   "nbconvert_exporter": "python",
   "pygments_lexer": "ipython3",
   "version": "3.12.10"
  }
 },
 "nbformat": 4,
 "nbformat_minor": 5
}
